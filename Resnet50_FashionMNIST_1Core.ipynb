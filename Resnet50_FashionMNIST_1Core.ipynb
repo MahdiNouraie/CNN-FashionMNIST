{
  "cells": [
    {
      "cell_type": "markdown",
      "metadata": {
        "id": "view-in-github",
        "colab_type": "text"
      },
      "source": [
        "<a href=\"https://colab.research.google.com/github/MahdiNouraie/CNN-FashionMNIST/blob/main/Resnet50_FashionMNIST_1Core.ipynb\" target=\"_parent\"><img src=\"https://colab.research.google.com/assets/colab-badge.svg\" alt=\"Open In Colab\"/></a>"
      ]
    },
    {
      "cell_type": "code",
      "execution_count": null,
      "metadata": {
        "id": "OApBOAe1fpH_"
      },
      "outputs": [],
      "source": [
        "!pip install cloud-tpu-client==0.10 torch==1.11.0 https://storage.googleapis.com/tpu-pytorch/wheels/colab/torch_xla-1.11-cp37-cp37m-linux_x86_64.whl"
      ]
    },
    {
      "cell_type": "code",
      "execution_count": null,
      "metadata": {
        "id": "-O4pM2wq5v_9"
      },
      "outputs": [],
      "source": [
        "import torch\n",
        "import torchvision\n",
        "import torchvision.datasets as datasets\n",
        "import torchvision.transforms as transforms\n",
        "import torch_xla\n",
        "import torch_xla.core.xla_model as xm\n",
        "from matplotlib import pyplot"
      ]
    },
    {
      "cell_type": "code",
      "execution_count": null,
      "metadata": {
        "id": "GV3mA1ep6fL1"
      },
      "outputs": [],
      "source": [
        "transform = transforms.Compose([ transforms.Resize((224,224)),  transforms.Lambda(lambda image: image.convert('RGB')), transforms.ToTensor() , transforms.Normalize((0.5,) , (0.5,) , )])"
      ]
    },
    {
      "cell_type": "code",
      "execution_count": null,
      "metadata": {
        "id": "pkrwKNoZ4C3e"
      },
      "outputs": [],
      "source": [
        "trainset = datasets.FashionMNIST('~/ .pytorch/F_MNIST_data' , download= True , transform= transform , train= True)\n",
        "testset = datasets.FashionMNIST('~/ .pytorch/F_MNIST_data' , download= True , transform= transform , train= False)"
      ]
    },
    {
      "cell_type": "code",
      "source": [
        "print(len(trainset))\n",
        "print(len(testset))"
      ],
      "metadata": {
        "colab": {
          "base_uri": "https://localhost:8080/"
        },
        "id": "SlmXqtF82AuP",
        "outputId": "45a9f373-4a7e-462e-fecf-34df2a6e1a8d"
      },
      "execution_count": null,
      "outputs": [
        {
          "output_type": "stream",
          "name": "stdout",
          "text": [
            "60000\n",
            "10000\n"
          ]
        }
      ]
    },
    {
      "cell_type": "code",
      "execution_count": null,
      "metadata": {
        "colab": {
          "base_uri": "https://localhost:8080/"
        },
        "id": "rb3SCI317aO8",
        "outputId": "91780ca8-3403-4b13-d366-e1dd16c1935b"
      },
      "outputs": [
        {
          "data": {
            "text/plain": [
              "torch.Size([3, 224, 224])"
            ]
          },
          "execution_count": 5,
          "metadata": {},
          "output_type": "execute_result"
        }
      ],
      "source": [
        "trainset[0][0].shape"
      ]
    },
    {
      "cell_type": "code",
      "execution_count": null,
      "metadata": {
        "colab": {
          "base_uri": "https://localhost:8080/",
          "height": 748
        },
        "id": "mqDB6Kzv7UQE",
        "outputId": "17fe5290-ed47-4639-fcbf-9f925295a3ef"
      },
      "outputs": [
        {
          "name": "stderr",
          "output_type": "stream",
          "text": [
            "WARNING:matplotlib.image:Clipping input data to the valid range for imshow with RGB data ([0..1] for floats or [0..255] for integers).\n",
            "WARNING:matplotlib.image:Clipping input data to the valid range for imshow with RGB data ([0..1] for floats or [0..255] for integers).\n",
            "WARNING:matplotlib.image:Clipping input data to the valid range for imshow with RGB data ([0..1] for floats or [0..255] for integers).\n",
            "WARNING:matplotlib.image:Clipping input data to the valid range for imshow with RGB data ([0..1] for floats or [0..255] for integers).\n",
            "WARNING:matplotlib.image:Clipping input data to the valid range for imshow with RGB data ([0..1] for floats or [0..255] for integers).\n",
            "WARNING:matplotlib.image:Clipping input data to the valid range for imshow with RGB data ([0..1] for floats or [0..255] for integers).\n",
            "WARNING:matplotlib.image:Clipping input data to the valid range for imshow with RGB data ([0..1] for floats or [0..255] for integers).\n",
            "WARNING:matplotlib.image:Clipping input data to the valid range for imshow with RGB data ([0..1] for floats or [0..255] for integers).\n",
            "WARNING:matplotlib.image:Clipping input data to the valid range for imshow with RGB data ([0..1] for floats or [0..255] for integers).\n",
            "WARNING:matplotlib.image:Clipping input data to the valid range for imshow with RGB data ([0..1] for floats or [0..255] for integers).\n",
            "WARNING:matplotlib.image:Clipping input data to the valid range for imshow with RGB data ([0..1] for floats or [0..255] for integers).\n",
            "WARNING:matplotlib.image:Clipping input data to the valid range for imshow with RGB data ([0..1] for floats or [0..255] for integers).\n",
            "WARNING:matplotlib.image:Clipping input data to the valid range for imshow with RGB data ([0..1] for floats or [0..255] for integers).\n",
            "WARNING:matplotlib.image:Clipping input data to the valid range for imshow with RGB data ([0..1] for floats or [0..255] for integers).\n",
            "WARNING:matplotlib.image:Clipping input data to the valid range for imshow with RGB data ([0..1] for floats or [0..255] for integers).\n",
            "WARNING:matplotlib.image:Clipping input data to the valid range for imshow with RGB data ([0..1] for floats or [0..255] for integers).\n",
            "WARNING:matplotlib.image:Clipping input data to the valid range for imshow with RGB data ([0..1] for floats or [0..255] for integers).\n",
            "WARNING:matplotlib.image:Clipping input data to the valid range for imshow with RGB data ([0..1] for floats or [0..255] for integers).\n",
            "WARNING:matplotlib.image:Clipping input data to the valid range for imshow with RGB data ([0..1] for floats or [0..255] for integers).\n",
            "WARNING:matplotlib.image:Clipping input data to the valid range for imshow with RGB data ([0..1] for floats or [0..255] for integers).\n",
            "WARNING:matplotlib.image:Clipping input data to the valid range for imshow with RGB data ([0..1] for floats or [0..255] for integers).\n",
            "WARNING:matplotlib.image:Clipping input data to the valid range for imshow with RGB data ([0..1] for floats or [0..255] for integers).\n",
            "WARNING:matplotlib.image:Clipping input data to the valid range for imshow with RGB data ([0..1] for floats or [0..255] for integers).\n",
            "WARNING:matplotlib.image:Clipping input data to the valid range for imshow with RGB data ([0..1] for floats or [0..255] for integers).\n",
            "WARNING:matplotlib.image:Clipping input data to the valid range for imshow with RGB data ([0..1] for floats or [0..255] for integers).\n"
          ]
        },
        {
          "data": {
            "image/png": "[encoded data removed]",
            "text/plain": [
              "<Figure size 432x288 with 25 Axes>"
            ]
          },
          "metadata": {},
          "output_type": "display_data"
        }
      ],
      "source": [
        "for i in range(25):\n",
        "\tpyplot.subplot(5, 5, i+1)\n",
        "\tpyplot.imshow(trainset[i][0].permute(1,2,0))\n",
        "pyplot.show()"
      ]
    },
    {
      "cell_type": "code",
      "execution_count": null,
      "metadata": {
        "id": "N1CZnWxRASSM"
      },
      "outputs": [],
      "source": [
        "train_sampler = torch.utils.data.RandomSampler(trainset)\n",
        "test_sampler = torch.utils.data.RandomSampler(testset)"
      ]
    },
    {
      "cell_type": "code",
      "execution_count": null,
      "metadata": {
        "id": "NR2mi_n6ASOG"
      },
      "outputs": [],
      "source": [
        "batch_size = 16\n",
        "train_loader = torch.utils.data.DataLoader(trainset, batch_size=batch_size, sampler=train_sampler)\n",
        "test_loader = torch.utils.data.DataLoader(testset, batch_size=batch_size, sampler=test_sampler)"
      ]
    },
    {
      "cell_type": "code",
      "execution_count": null,
      "metadata": {
        "colab": {
          "base_uri": "https://localhost:8080/"
        },
        "id": "xtnuQByICRSG",
        "outputId": "6e89c54e-3476-4062-f8ef-8349d0077dad"
      },
      "outputs": [
        {
          "data": {
            "text/plain": [
              "device(type='xla', index=1)"
            ]
          },
          "execution_count": 37,
          "metadata": {},
          "output_type": "execute_result"
        }
      ],
      "source": [
        "device = xm.xla_device()\n",
        "device"
      ]
    },
    {
      "cell_type": "code",
      "execution_count": null,
      "metadata": {
        "id": "3cZ_bpu5AuMv"
      },
      "outputs": [],
      "source": [
        "net = torchvision.models.resnet50(num_classes=10)\n",
        "net = net.to(device)"
      ]
    },
    {
      "cell_type": "code",
      "execution_count": null,
      "metadata": {
        "id": "WmmhwQoiDZ61"
      },
      "outputs": [],
      "source": [
        "class_map = {\n",
        "0 : \"t-shirt\",\n",
        "1 : \"trouser\",\n",
        "2 : \"pullover\",\n",
        "3 : \"dress\",\n",
        "4 : \"coat\",\n",
        "5 : \"sandal\",\n",
        "6 : \"shirt\",\n",
        "7 : \"sneaker\",\n",
        "8 : \"bag\",\n",
        "9 : \"ankle boot\"}"
      ]
    },
    {
      "cell_type": "code",
      "execution_count": null,
      "metadata": {
        "id": "OUVSqvyUC4Qn"
      },
      "outputs": [],
      "source": [
        "import os\n",
        "import time\n",
        "from google.colab import widgets\n",
        "\n",
        "t_to_img = transforms.Compose([transforms.ToPILImage(), transforms.Grayscale()])\n",
        "\n",
        "def eval_network(net, test_loader):\n",
        "  start_time = time.time()\n",
        "  num_correct = 0\n",
        "  total_guesses = 0\n",
        "\n",
        "  # Sets eval and no grad context for evaluation\n",
        "  net.eval()\n",
        "  with torch.no_grad():\n",
        "    for data, targets in iter(test_loader):\n",
        "      # Sends data and targets to device\n",
        "      data = data.to(device)\n",
        "      targets = targets.to(device)\n",
        "\n",
        "      # Acquires the network's best guesses at each class\n",
        "      results = net(data)\n",
        "      best_guesses = torch.argmax(results, 1)\n",
        "\n",
        "      # Updates number of correct and total guesses\n",
        "      num_correct += torch.eq(targets, best_guesses).sum().item()\n",
        "      total_guesses += batch_size\n",
        "    \n",
        "    # Prints output\n",
        "    elapsed_time = time.time() - start_time\n",
        "    print(\"Correctly guessed \", num_correct/total_guesses*100, \"% of the dataset\")\n",
        "    print(\"Evaluated in \", elapsed_time, \" seconds\")\n",
        "    print(\"Sample batch:\")\n",
        "    \n",
        "    # Uses last batch as sample\n",
        "    grid = widgets.Grid(4, 4)\n",
        "    row = 0\n",
        "    col = 0\n",
        "    for ex in zip(data, targets, best_guesses):\n",
        "      data = ex[0].cpu()\n",
        "      target = class_map[ex[1].item()]\n",
        "      guess = class_map[ex[2].item()]\n",
        "\n",
        "      img = t_to_img(data)\n",
        "\n",
        "      with grid.output_to(row, col):\n",
        "        display(img)\n",
        "        print(\"Target: \", target)\n",
        "        print(\"Guess: \", guess)\n",
        "\n",
        "        # Updates grid location\n",
        "        if col == 3:\n",
        "          row += 1\n",
        "          col = 0\n",
        "        else:\n",
        "          col += 1"
      ]
    },
    {
      "cell_type": "code",
      "execution_count": null,
      "metadata": {
        "colab": {
          "base_uri": "https://localhost:8080/",
          "height": 1000
        },
        "id": "KeVZsnqDDKno",
        "outputId": "b1cd6ea6-44c4-47b4-a9a5-4978d18b5f21"
      },
      "outputs": [
        {
          "name": "stdout",
          "output_type": "stream",
          "text": [
            "Correctly guessed  12.11 % of the dataset\n",
            "Evaluated in  97.02304792404175  seconds\n",
            "Sample batch:\n"
          ]
        },
        {
          "data": {
            "text/html": [
              "<style>\n",
              "       table#id10, #id10 > tbody > tr > th, #id10 > tbody > tr > td {\n",
              "         border: 1px solid lightgray;\n",
              "         border-collapse:collapse;\n",
              "         \n",
              "        }</style>"
            ],
            "text/plain": [
              "<IPython.core.display.HTML object>"
            ]
          },
          "metadata": {},
          "output_type": "display_data"
        },
        {
          "data": {
            "text/html": [
              "<table id=id10><tr><td id=id10-0-0></td><td id=id10-0-1></td><td id=id10-0-2></td><td id=id10-0-3></td></tr><tr><td id=id10-1-0></td><td id=id10-1-1></td><td id=id10-1-2></td><td id=id10-1-3></td></tr><tr><td id=id10-2-0></td><td id=id10-2-1></td><td id=id10-2-2></td><td id=id10-2-3></td></tr><tr><td id=id10-3-0></td><td id=id10-3-1></td><td id=id10-3-2></td><td id=id10-3-3></td></tr></table>"
            ],
            "text/plain": [
              "<IPython.core.display.HTML object>"
            ]
          },
          "metadata": {},
          "output_type": "display_data"
        },
        {
          "data": {
            "application/javascript": [
              "window[\"2c0b1ada-b7ec-11ec-8400-0242ac1c0002\"] = google.colab.output.getActiveOutputArea();\n",
              "//# sourceURL=js_e8ddadf5a3"
            ],
            "text/plain": [
              "<IPython.core.display.Javascript object>"
            ]
          },
          "metadata": {},
          "output_type": "display_data"
        },
        {
          "data": {
            "application/javascript": [
              "window[\"2c0b6788-b7ec-11ec-8400-0242ac1c0002\"] = document.querySelector(\"#id10-0-0\");\n",
              "//# sourceURL=js_8098b6a4bf"
            ],
            "text/plain": [
              "<IPython.core.display.Javascript object>"
            ]
          },
          "metadata": {},
          "output_type": "display_data"
        },
        {
          "data": {
            "application/javascript": [
              "window[\"2c0bb684-b7ec-11ec-8400-0242ac1c0002\"] = google.colab.output.setActiveOutputArea(window[\"2c0b6788-b7ec-11ec-8400-0242ac1c0002\"]);\n",
              "//# sourceURL=js_d31ef42245"
            ],
            "text/plain": [
              "<IPython.core.display.Javascript object>"
            ]
          },
          "metadata": {},
          "output_type": "display_data"
        },
        {
          "data": {
            "image/png": "[encoded data removed]",
            "text/plain": [
              "<PIL.Image.Image image mode=L size=224x224 at 0x7F58EB5827D0>"
            ]
          },
          "metadata": {},
          "output_type": "display_data"
        },
        {
          "name": "stdout",
          "output_type": "stream",
          "text": [
            "Target:  pullover\n",
            "Guess:  bag\n"
          ]
        },
        {
          "data": {
            "application/javascript": [
              "window[\"2c0fa50a-b7ec-11ec-8400-0242ac1c0002\"] = google.colab.output.setActiveOutputArea(window[\"2c0b1ada-b7ec-11ec-8400-0242ac1c0002\"]);\n",
              "//# sourceURL=js_c2dbc01cd5"
            ],
            "text/plain": [
              "<IPython.core.display.Javascript object>"
            ]
          },
          "metadata": {},
          "output_type": "display_data"
        },
        {
          "data": {
            "application/javascript": [
              "window[\"2c17f64c-b7ec-11ec-8400-0242ac1c0002\"] = google.colab.output.getActiveOutputArea();\n",
              "//# sourceURL=js_bbcd200111"
            ],
            "text/plain": [
              "<IPython.core.display.Javascript object>"
            ]
          },
          "metadata": {},
          "output_type": "display_data"
        },
        {
          "data": {
            "application/javascript": [
              "window[\"2c186cb2-b7ec-11ec-8400-0242ac1c0002\"] = document.querySelector(\"#id10-0-1\");\n",
              "//# sourceURL=js_3a11722558"
            ],
            "text/plain": [
              "<IPython.core.display.Javascript object>"
            ]
          },
          "metadata": {},
          "output_type": "display_data"
        },
        {
          "data": {
            "application/javascript": [
              "window[\"2c18dca6-b7ec-11ec-8400-0242ac1c0002\"] = google.colab.output.setActiveOutputArea(window[\"2c186cb2-b7ec-11ec-8400-0242ac1c0002\"]);\n",
              "//# sourceURL=js_dcd9897b9b"
            ],
            "text/plain": [
              "<IPython.core.display.Javascript object>"
            ]
          },
          "metadata": {},
          "output_type": "display_data"
        },
        {
          "data": {
            "image/png": "[encoded data removed]",
            "text/plain": [
              "<PIL.Image.Image image mode=L size=224x224 at 0x7F58EB582350>"
            ]
          },
          "metadata": {},
          "output_type": "display_data"
        },
        {
          "name": "stdout",
          "output_type": "stream",
          "text": [
            "Target:  dress\n",
            "Guess:  bag\n"
          ]
        },
        {
          "data": {
            "application/javascript": [
              "window[\"2c1c09b2-b7ec-11ec-8400-0242ac1c0002\"] = google.colab.output.setActiveOutputArea(window[\"2c17f64c-b7ec-11ec-8400-0242ac1c0002\"]);\n",
              "//# sourceURL=js_9760230586"
            ],
            "text/plain": [
              "<IPython.core.display.Javascript object>"
            ]
          },
          "metadata": {},
          "output_type": "display_data"
        },
        {
          "data": {
            "application/javascript": [
              "window[\"2c244dd4-b7ec-11ec-8400-0242ac1c0002\"] = google.colab.output.getActiveOutputArea();\n",
              "//# sourceURL=js_7b71a9d27b"
            ],
            "text/plain": [
              "<IPython.core.display.Javascript object>"
            ]
          },
          "metadata": {},
          "output_type": "display_data"
        },
        {
          "data": {
            "application/javascript": [
              "window[\"2c254cde-b7ec-11ec-8400-0242ac1c0002\"] = document.querySelector(\"#id10-0-2\");\n",
              "//# sourceURL=js_75004f1b1e"
            ],
            "text/plain": [
              "<IPython.core.display.Javascript object>"
            ]
          },
          "metadata": {},
          "output_type": "display_data"
        },
        {
          "data": {
            "application/javascript": [
              "window[\"2c25ee78-b7ec-11ec-8400-0242ac1c0002\"] = google.colab.output.setActiveOutputArea(window[\"2c254cde-b7ec-11ec-8400-0242ac1c0002\"]);\n",
              "//# sourceURL=js_d0c67517cf"
            ],
            "text/plain": [
              "<IPython.core.display.Javascript object>"
            ]
          },
          "metadata": {},
          "output_type": "display_data"
        },
        {
          "data": {
            "image/png": "[encoded data removed]",
            "text/plain": [
              "<PIL.Image.Image image mode=L size=224x224 at 0x7F58EB127110>"
            ]
          },
          "metadata": {},
          "output_type": "display_data"
        },
        {
          "name": "stdout",
          "output_type": "stream",
          "text": [
            "Target:  sneaker\n",
            "Guess:  sandal\n"
          ]
        },
        {
          "data": {
            "application/javascript": [
              "window[\"2c2acc72-b7ec-11ec-8400-0242ac1c0002\"] = google.colab.output.setActiveOutputArea(window[\"2c244dd4-b7ec-11ec-8400-0242ac1c0002\"]);\n",
              "//# sourceURL=js_f780ed6afa"
            ],
            "text/plain": [
              "<IPython.core.display.Javascript object>"
            ]
          },
          "metadata": {},
          "output_type": "display_data"
        },
        {
          "data": {
            "application/javascript": [
              "window[\"2c33a162-b7ec-11ec-8400-0242ac1c0002\"] = google.colab.output.getActiveOutputArea();\n",
              "//# sourceURL=js_0203845fed"
            ],
            "text/plain": [
              "<IPython.core.display.Javascript object>"
            ]
          },
          "metadata": {},
          "output_type": "display_data"
        },
        {
          "data": {
            "application/javascript": [
              "window[\"2c344c84-b7ec-11ec-8400-0242ac1c0002\"] = document.querySelector(\"#id10-0-3\");\n",
              "//# sourceURL=js_41b8f4c64d"
            ],
            "text/plain": [
              "<IPython.core.display.Javascript object>"
            ]
          },
          "metadata": {},
          "output_type": "display_data"
        },
        {
          "data": {
            "application/javascript": [
              "window[\"2c34d4e2-b7ec-11ec-8400-0242ac1c0002\"] = google.colab.output.setActiveOutputArea(window[\"2c344c84-b7ec-11ec-8400-0242ac1c0002\"]);\n",
              "//# sourceURL=js_e07777cd79"
            ],
            "text/plain": [
              "<IPython.core.display.Javascript object>"
            ]
          },
          "metadata": {},
          "output_type": "display_data"
        },
        {
          "data": {
            "image/png": "[encoded data removed]",
            "text/plain": [
              "<PIL.Image.Image image mode=L size=224x224 at 0x7F58EB1864D0>"
            ]
          },
          "metadata": {},
          "output_type": "display_data"
        },
        {
          "name": "stdout",
          "output_type": "stream",
          "text": [
            "Target:  pullover\n",
            "Guess:  sandal\n"
          ]
        },
        {
          "data": {
            "application/javascript": [
              "window[\"2c385446-b7ec-11ec-8400-0242ac1c0002\"] = google.colab.output.setActiveOutputArea(window[\"2c33a162-b7ec-11ec-8400-0242ac1c0002\"]);\n",
              "//# sourceURL=js_f9b44c0f7b"
            ],
            "text/plain": [
              "<IPython.core.display.Javascript object>"
            ]
          },
          "metadata": {},
          "output_type": "display_data"
        },
        {
          "data": {
            "application/javascript": [
              "window[\"2c421c10-b7ec-11ec-8400-0242ac1c0002\"] = google.colab.output.getActiveOutputArea();\n",
              "//# sourceURL=js_afad9525bc"
            ],
            "text/plain": [
              "<IPython.core.display.Javascript object>"
            ]
          },
          "metadata": {},
          "output_type": "display_data"
        },
        {
          "data": {
            "application/javascript": [
              "window[\"2c42b30a-b7ec-11ec-8400-0242ac1c0002\"] = document.querySelector(\"#id10-1-0\");\n",
              "//# sourceURL=js_4f2fd44010"
            ],
            "text/plain": [
              "<IPython.core.display.Javascript object>"
            ]
          },
          "metadata": {},
          "output_type": "display_data"
        },
        {
          "data": {
            "application/javascript": [
              "window[\"2c436976-b7ec-11ec-8400-0242ac1c0002\"] = google.colab.output.setActiveOutputArea(window[\"2c42b30a-b7ec-11ec-8400-0242ac1c0002\"]);\n",
              "//# sourceURL=js_621bc9143a"
            ],
            "text/plain": [
              "<IPython.core.display.Javascript object>"
            ]
          },
          "metadata": {},
          "output_type": "display_data"
        },
        {
          "data": {
            "image/png": "[encoded data removed]",
            "text/plain": [
              "<PIL.Image.Image image mode=L size=224x224 at 0x7F58EB1860D0>"
            ]
          },
          "metadata": {},
          "output_type": "display_data"
        },
        {
          "name": "stdout",
          "output_type": "stream",
          "text": [
            "Target:  dress\n",
            "Guess:  sandal\n"
          ]
        },
        {
          "data": {
            "application/javascript": [
              "window[\"2c478812-b7ec-11ec-8400-0242ac1c0002\"] = google.colab.output.setActiveOutputArea(window[\"2c421c10-b7ec-11ec-8400-0242ac1c0002\"]);\n",
              "//# sourceURL=js_7849f88990"
            ],
            "text/plain": [
              "<IPython.core.display.Javascript object>"
            ]
          },
          "metadata": {},
          "output_type": "display_data"
        },
        {
          "data": {
            "application/javascript": [
              "window[\"2c52f5f8-b7ec-11ec-8400-0242ac1c0002\"] = google.colab.output.getActiveOutputArea();\n",
              "//# sourceURL=js_6b3cb0ce47"
            ],
            "text/plain": [
              "<IPython.core.display.Javascript object>"
            ]
          },
          "metadata": {},
          "output_type": "display_data"
        },
        {
          "data": {
            "application/javascript": [
              "window[\"2c53c2f8-b7ec-11ec-8400-0242ac1c0002\"] = document.querySelector(\"#id10-1-1\");\n",
              "//# sourceURL=js_dedb796bb4"
            ],
            "text/plain": [
              "<IPython.core.display.Javascript object>"
            ]
          },
          "metadata": {},
          "output_type": "display_data"
        },
        {
          "data": {
            "application/javascript": [
              "window[\"2c551630-b7ec-11ec-8400-0242ac1c0002\"] = google.colab.output.setActiveOutputArea(window[\"2c53c2f8-b7ec-11ec-8400-0242ac1c0002\"]);\n",
              "//# sourceURL=js_149ab9a86b"
            ],
            "text/plain": [
              "<IPython.core.display.Javascript object>"
            ]
          },
          "metadata": {},
          "output_type": "display_data"
        },
        {
          "data": {
            "image/png": "[encoded data removed]",
            "text/plain": [
              "<PIL.Image.Image image mode=L size=224x224 at 0x7F58EB19CB50>"
            ]
          },
          "metadata": {},
          "output_type": "display_data"
        },
        {
          "name": "stdout",
          "output_type": "stream",
          "text": [
            "Target:  ankle boot\n",
            "Guess:  sandal\n"
          ]
        },
        {
          "data": {
            "application/javascript": [
              "window[\"2c58f908-b7ec-11ec-8400-0242ac1c0002\"] = google.colab.output.setActiveOutputArea(window[\"2c52f5f8-b7ec-11ec-8400-0242ac1c0002\"]);\n",
              "//# sourceURL=js_a6e06c6717"
            ],
            "text/plain": [
              "<IPython.core.display.Javascript object>"
            ]
          },
          "metadata": {},
          "output_type": "display_data"
        },
        {
          "data": {
            "application/javascript": [
              "window[\"2c61e70c-b7ec-11ec-8400-0242ac1c0002\"] = google.colab.output.getActiveOutputArea();\n",
              "//# sourceURL=js_4f61bde65e"
            ],
            "text/plain": [
              "<IPython.core.display.Javascript object>"
            ]
          },
          "metadata": {},
          "output_type": "display_data"
        },
        {
          "data": {
            "application/javascript": [
              "window[\"2c62c870-b7ec-11ec-8400-0242ac1c0002\"] = document.querySelector(\"#id10-1-2\");\n",
              "//# sourceURL=js_9564a3299a"
            ],
            "text/plain": [
              "<IPython.core.display.Javascript object>"
            ]
          },
          "metadata": {},
          "output_type": "display_data"
        },
        {
          "data": {
            "application/javascript": [
              "window[\"2c633472-b7ec-11ec-8400-0242ac1c0002\"] = google.colab.output.setActiveOutputArea(window[\"2c62c870-b7ec-11ec-8400-0242ac1c0002\"]);\n",
              "//# sourceURL=js_0f9b635835"
            ],
            "text/plain": [
              "<IPython.core.display.Javascript object>"
            ]
          },
          "metadata": {},
          "output_type": "display_data"
        },
        {
          "data": {
            "image/png": "[encoded data removed]",
            "text/plain": [
              "<PIL.Image.Image image mode=L size=224x224 at 0x7F58EB186E90>"
            ]
          },
          "metadata": {},
          "output_type": "display_data"
        },
        {
          "name": "stdout",
          "output_type": "stream",
          "text": [
            "Target:  t-shirt\n",
            "Guess:  sandal\n"
          ]
        },
        {
          "data": {
            "application/javascript": [
              "window[\"2c672802-b7ec-11ec-8400-0242ac1c0002\"] = google.colab.output.setActiveOutputArea(window[\"2c61e70c-b7ec-11ec-8400-0242ac1c0002\"]);\n",
              "//# sourceURL=js_bf71353e63"
            ],
            "text/plain": [
              "<IPython.core.display.Javascript object>"
            ]
          },
          "metadata": {},
          "output_type": "display_data"
        },
        {
          "data": {
            "application/javascript": [
              "window[\"2c705fda-b7ec-11ec-8400-0242ac1c0002\"] = google.colab.output.getActiveOutputArea();\n",
              "//# sourceURL=js_754e4ad851"
            ],
            "text/plain": [
              "<IPython.core.display.Javascript object>"
            ]
          },
          "metadata": {},
          "output_type": "display_data"
        },
        {
          "data": {
            "application/javascript": [
              "window[\"2c70e162-b7ec-11ec-8400-0242ac1c0002\"] = document.querySelector(\"#id10-1-3\");\n",
              "//# sourceURL=js_90d46516b7"
            ],
            "text/plain": [
              "<IPython.core.display.Javascript object>"
            ]
          },
          "metadata": {},
          "output_type": "display_data"
        },
        {
          "data": {
            "application/javascript": [
              "window[\"2c71445e-b7ec-11ec-8400-0242ac1c0002\"] = google.colab.output.setActiveOutputArea(window[\"2c70e162-b7ec-11ec-8400-0242ac1c0002\"]);\n",
              "//# sourceURL=js_9187e9f46c"
            ],
            "text/plain": [
              "<IPython.core.display.Javascript object>"
            ]
          },
          "metadata": {},
          "output_type": "display_data"
        },
        {
          "data": {
            "image/png": "[encoded data removed]",
            "text/plain": [
              "<PIL.Image.Image image mode=L size=224x224 at 0x7F58EB186390>"
            ]
          },
          "metadata": {},
          "output_type": "display_data"
        },
        {
          "name": "stdout",
          "output_type": "stream",
          "text": [
            "Target:  sneaker\n",
            "Guess:  sandal\n"
          ]
        },
        {
          "data": {
            "application/javascript": [
              "window[\"2c758186-b7ec-11ec-8400-0242ac1c0002\"] = google.colab.output.setActiveOutputArea(window[\"2c705fda-b7ec-11ec-8400-0242ac1c0002\"]);\n",
              "//# sourceURL=js_10f67654fd"
            ],
            "text/plain": [
              "<IPython.core.display.Javascript object>"
            ]
          },
          "metadata": {},
          "output_type": "display_data"
        },
        {
          "data": {
            "application/javascript": [
              "window[\"2c7dc512-b7ec-11ec-8400-0242ac1c0002\"] = google.colab.output.getActiveOutputArea();\n",
              "//# sourceURL=js_9e1afc8994"
            ],
            "text/plain": [
              "<IPython.core.display.Javascript object>"
            ]
          },
          "metadata": {},
          "output_type": "display_data"
        },
        {
          "data": {
            "application/javascript": [
              "window[\"2c7e4546-b7ec-11ec-8400-0242ac1c0002\"] = document.querySelector(\"#id10-2-0\");\n",
              "//# sourceURL=js_64311c87c3"
            ],
            "text/plain": [
              "<IPython.core.display.Javascript object>"
            ]
          },
          "metadata": {},
          "output_type": "display_data"
        },
        {
          "data": {
            "application/javascript": [
              "window[\"2c7f3564-b7ec-11ec-8400-0242ac1c0002\"] = google.colab.output.setActiveOutputArea(window[\"2c7e4546-b7ec-11ec-8400-0242ac1c0002\"]);\n",
              "//# sourceURL=js_afdaffe4fc"
            ],
            "text/plain": [
              "<IPython.core.display.Javascript object>"
            ]
          },
          "metadata": {},
          "output_type": "display_data"
        },
        {
          "data": {
            "image/png": "[encoded data removed]",
            "text/plain": [
              "<PIL.Image.Image image mode=L size=224x224 at 0x7F58EB1862D0>"
            ]
          },
          "metadata": {},
          "output_type": "display_data"
        },
        {
          "name": "stdout",
          "output_type": "stream",
          "text": [
            "Target:  t-shirt\n",
            "Guess:  bag\n"
          ]
        },
        {
          "data": {
            "application/javascript": [
              "window[\"2c83af72-b7ec-11ec-8400-0242ac1c0002\"] = google.colab.output.setActiveOutputArea(window[\"2c7dc512-b7ec-11ec-8400-0242ac1c0002\"]);\n",
              "//# sourceURL=js_b2413c3bcb"
            ],
            "text/plain": [
              "<IPython.core.display.Javascript object>"
            ]
          },
          "metadata": {},
          "output_type": "display_data"
        },
        {
          "data": {
            "application/javascript": [
              "window[\"2c8c87d2-b7ec-11ec-8400-0242ac1c0002\"] = google.colab.output.getActiveOutputArea();\n",
              "//# sourceURL=js_de5f7411b0"
            ],
            "text/plain": [
              "<IPython.core.display.Javascript object>"
            ]
          },
          "metadata": {},
          "output_type": "display_data"
        },
        {
          "data": {
            "application/javascript": [
              "window[\"2c8ce948-b7ec-11ec-8400-0242ac1c0002\"] = document.querySelector(\"#id10-2-1\");\n",
              "//# sourceURL=js_3130d6a9cd"
            ],
            "text/plain": [
              "<IPython.core.display.Javascript object>"
            ]
          },
          "metadata": {},
          "output_type": "display_data"
        },
        {
          "data": {
            "application/javascript": [
              "window[\"2c8d62c4-b7ec-11ec-8400-0242ac1c0002\"] = google.colab.output.setActiveOutputArea(window[\"2c8ce948-b7ec-11ec-8400-0242ac1c0002\"]);\n",
              "//# sourceURL=js_70bd9a68fd"
            ],
            "text/plain": [
              "<IPython.core.display.Javascript object>"
            ]
          },
          "metadata": {},
          "output_type": "display_data"
        },
        {
          "data": {
            "image/png": "[encoded data removed]",
            "text/plain": [
              "<PIL.Image.Image image mode=L size=224x224 at 0x7F58EB186F90>"
            ]
          },
          "metadata": {},
          "output_type": "display_data"
        },
        {
          "name": "stdout",
          "output_type": "stream",
          "text": [
            "Target:  dress\n",
            "Guess:  bag\n"
          ]
        },
        {
          "data": {
            "application/javascript": [
              "window[\"2c91df0c-b7ec-11ec-8400-0242ac1c0002\"] = google.colab.output.setActiveOutputArea(window[\"2c8c87d2-b7ec-11ec-8400-0242ac1c0002\"]);\n",
              "//# sourceURL=js_97027e74c4"
            ],
            "text/plain": [
              "<IPython.core.display.Javascript object>"
            ]
          },
          "metadata": {},
          "output_type": "display_data"
        },
        {
          "data": {
            "application/javascript": [
              "window[\"2c9a4732-b7ec-11ec-8400-0242ac1c0002\"] = google.colab.output.getActiveOutputArea();\n",
              "//# sourceURL=js_d61b45de72"
            ],
            "text/plain": [
              "<IPython.core.display.Javascript object>"
            ]
          },
          "metadata": {},
          "output_type": "display_data"
        },
        {
          "data": {
            "application/javascript": [
              "window[\"2c9ac19e-b7ec-11ec-8400-0242ac1c0002\"] = document.querySelector(\"#id10-2-2\");\n",
              "//# sourceURL=js_7c32876974"
            ],
            "text/plain": [
              "<IPython.core.display.Javascript object>"
            ]
          },
          "metadata": {},
          "output_type": "display_data"
        },
        {
          "data": {
            "application/javascript": [
              "window[\"2c9b3c6e-b7ec-11ec-8400-0242ac1c0002\"] = google.colab.output.setActiveOutputArea(window[\"2c9ac19e-b7ec-11ec-8400-0242ac1c0002\"]);\n",
              "//# sourceURL=js_693e4a3048"
            ],
            "text/plain": [
              "<IPython.core.display.Javascript object>"
            ]
          },
          "metadata": {},
          "output_type": "display_data"
        },
        {
          "data": {
            "image/png": "[encoded data removed]",
            "text/plain": [
              "<PIL.Image.Image image mode=L size=224x224 at 0x7F58EB186C10>"
            ]
          },
          "metadata": {},
          "output_type": "display_data"
        },
        {
          "name": "stdout",
          "output_type": "stream",
          "text": [
            "Target:  t-shirt\n",
            "Guess:  trouser\n"
          ]
        },
        {
          "data": {
            "application/javascript": [
              "window[\"2c9f97a0-b7ec-11ec-8400-0242ac1c0002\"] = google.colab.output.setActiveOutputArea(window[\"2c9a4732-b7ec-11ec-8400-0242ac1c0002\"]);\n",
              "//# sourceURL=js_4f37b96938"
            ],
            "text/plain": [
              "<IPython.core.display.Javascript object>"
            ]
          },
          "metadata": {},
          "output_type": "display_data"
        },
        {
          "data": {
            "application/javascript": [
              "window[\"2ca9bfd2-b7ec-11ec-8400-0242ac1c0002\"] = google.colab.output.getActiveOutputArea();\n",
              "//# sourceURL=js_23b97677b2"
            ],
            "text/plain": [
              "<IPython.core.display.Javascript object>"
            ]
          },
          "metadata": {},
          "output_type": "display_data"
        },
        {
          "data": {
            "application/javascript": [
              "window[\"2caa25f8-b7ec-11ec-8400-0242ac1c0002\"] = document.querySelector(\"#id10-2-3\");\n",
              "//# sourceURL=js_dea0a60602"
            ],
            "text/plain": [
              "<IPython.core.display.Javascript object>"
            ]
          },
          "metadata": {},
          "output_type": "display_data"
        },
        {
          "data": {
            "application/javascript": [
              "window[\"2caa85c0-b7ec-11ec-8400-0242ac1c0002\"] = google.colab.output.setActiveOutputArea(window[\"2caa25f8-b7ec-11ec-8400-0242ac1c0002\"]);\n",
              "//# sourceURL=js_5fa3ac8ed4"
            ],
            "text/plain": [
              "<IPython.core.display.Javascript object>"
            ]
          },
          "metadata": {},
          "output_type": "display_data"
        },
        {
          "data": {
            "image/png": "[encoded data removed]",
            "text/plain": [
              "<PIL.Image.Image image mode=L size=224x224 at 0x7F58EB19C190>"
            ]
          },
          "metadata": {},
          "output_type": "display_data"
        },
        {
          "name": "stdout",
          "output_type": "stream",
          "text": [
            "Target:  sneaker\n",
            "Guess:  sandal\n"
          ]
        },
        {
          "data": {
            "application/javascript": [
              "window[\"2caec842-b7ec-11ec-8400-0242ac1c0002\"] = google.colab.output.setActiveOutputArea(window[\"2ca9bfd2-b7ec-11ec-8400-0242ac1c0002\"]);\n",
              "//# sourceURL=js_877b269896"
            ],
            "text/plain": [
              "<IPython.core.display.Javascript object>"
            ]
          },
          "metadata": {},
          "output_type": "display_data"
        },
        {
          "data": {
            "application/javascript": [
              "window[\"2cb876bc-b7ec-11ec-8400-0242ac1c0002\"] = google.colab.output.getActiveOutputArea();\n",
              "//# sourceURL=js_399412d6f1"
            ],
            "text/plain": [
              "<IPython.core.display.Javascript object>"
            ]
          },
          "metadata": {},
          "output_type": "display_data"
        },
        {
          "data": {
            "application/javascript": [
              "window[\"2cb8fdd0-b7ec-11ec-8400-0242ac1c0002\"] = document.querySelector(\"#id10-3-0\");\n",
              "//# sourceURL=js_e7869beb51"
            ],
            "text/plain": [
              "<IPython.core.display.Javascript object>"
            ]
          },
          "metadata": {},
          "output_type": "display_data"
        },
        {
          "data": {
            "application/javascript": [
              "window[\"2cb98c1e-b7ec-11ec-8400-0242ac1c0002\"] = google.colab.output.setActiveOutputArea(window[\"2cb8fdd0-b7ec-11ec-8400-0242ac1c0002\"]);\n",
              "//# sourceURL=js_27765e3444"
            ],
            "text/plain": [
              "<IPython.core.display.Javascript object>"
            ]
          },
          "metadata": {},
          "output_type": "display_data"
        },
        {
          "data": {
            "image/png": "[encoded data removed]",
            "text/plain": [
              "<PIL.Image.Image image mode=L size=224x224 at 0x7F58EB1864D0>"
            ]
          },
          "metadata": {},
          "output_type": "display_data"
        },
        {
          "name": "stdout",
          "output_type": "stream",
          "text": [
            "Target:  coat\n",
            "Guess:  bag\n"
          ]
        },
        {
          "data": {
            "application/javascript": [
              "window[\"2cbd62d0-b7ec-11ec-8400-0242ac1c0002\"] = google.colab.output.setActiveOutputArea(window[\"2cb876bc-b7ec-11ec-8400-0242ac1c0002\"]);\n",
              "//# sourceURL=js_48ea167f56"
            ],
            "text/plain": [
              "<IPython.core.display.Javascript object>"
            ]
          },
          "metadata": {},
          "output_type": "display_data"
        },
        {
          "data": {
            "application/javascript": [
              "window[\"2cc61876-b7ec-11ec-8400-0242ac1c0002\"] = google.colab.output.getActiveOutputArea();\n",
              "//# sourceURL=js_0fbd4d6a02"
            ],
            "text/plain": [
              "<IPython.core.display.Javascript object>"
            ]
          },
          "metadata": {},
          "output_type": "display_data"
        },
        {
          "data": {
            "application/javascript": [
              "window[\"2cc67514-b7ec-11ec-8400-0242ac1c0002\"] = document.querySelector(\"#id10-3-1\");\n",
              "//# sourceURL=js_da39d73376"
            ],
            "text/plain": [
              "<IPython.core.display.Javascript object>"
            ]
          },
          "metadata": {},
          "output_type": "display_data"
        },
        {
          "data": {
            "application/javascript": [
              "window[\"2cc6dc70-b7ec-11ec-8400-0242ac1c0002\"] = google.colab.output.setActiveOutputArea(window[\"2cc67514-b7ec-11ec-8400-0242ac1c0002\"]);\n",
              "//# sourceURL=js_af00a5245f"
            ],
            "text/plain": [
              "<IPython.core.display.Javascript object>"
            ]
          },
          "metadata": {},
          "output_type": "display_data"
        },
        {
          "data": {
            "image/png": "[encoded data removed]",
            "text/plain": [
              "<PIL.Image.Image image mode=L size=224x224 at 0x7F58EB186E10>"
            ]
          },
          "metadata": {},
          "output_type": "display_data"
        },
        {
          "name": "stdout",
          "output_type": "stream",
          "text": [
            "Target:  trouser\n",
            "Guess:  sandal\n"
          ]
        },
        {
          "data": {
            "application/javascript": [
              "window[\"2ccb0aac-b7ec-11ec-8400-0242ac1c0002\"] = google.colab.output.setActiveOutputArea(window[\"2cc61876-b7ec-11ec-8400-0242ac1c0002\"]);\n",
              "//# sourceURL=js_1b296188da"
            ],
            "text/plain": [
              "<IPython.core.display.Javascript object>"
            ]
          },
          "metadata": {},
          "output_type": "display_data"
        },
        {
          "data": {
            "application/javascript": [
              "window[\"2cd22cf6-b7ec-11ec-8400-0242ac1c0002\"] = google.colab.output.getActiveOutputArea();\n",
              "//# sourceURL=js_3eca2f27e7"
            ],
            "text/plain": [
              "<IPython.core.display.Javascript object>"
            ]
          },
          "metadata": {},
          "output_type": "display_data"
        },
        {
          "data": {
            "application/javascript": [
              "window[\"2cd27b3e-b7ec-11ec-8400-0242ac1c0002\"] = document.querySelector(\"#id10-3-2\");\n",
              "//# sourceURL=js_e25bc280fa"
            ],
            "text/plain": [
              "<IPython.core.display.Javascript object>"
            ]
          },
          "metadata": {},
          "output_type": "display_data"
        },
        {
          "data": {
            "application/javascript": [
              "window[\"2cd32624-b7ec-11ec-8400-0242ac1c0002\"] = google.colab.output.setActiveOutputArea(window[\"2cd27b3e-b7ec-11ec-8400-0242ac1c0002\"]);\n",
              "//# sourceURL=js_1c0cc81e28"
            ],
            "text/plain": [
              "<IPython.core.display.Javascript object>"
            ]
          },
          "metadata": {},
          "output_type": "display_data"
        },
        {
          "data": {
            "image/png": "[encoded data removed]",
            "text/plain": [
              "<PIL.Image.Image image mode=L size=224x224 at 0x7F58EB186A10>"
            ]
          },
          "metadata": {},
          "output_type": "display_data"
        },
        {
          "name": "stdout",
          "output_type": "stream",
          "text": [
            "Target:  bag\n",
            "Guess:  sandal\n"
          ]
        },
        {
          "data": {
            "application/javascript": [
              "window[\"2cd97498-b7ec-11ec-8400-0242ac1c0002\"] = google.colab.output.setActiveOutputArea(window[\"2cd22cf6-b7ec-11ec-8400-0242ac1c0002\"]);\n",
              "//# sourceURL=js_23df53b0a9"
            ],
            "text/plain": [
              "<IPython.core.display.Javascript object>"
            ]
          },
          "metadata": {},
          "output_type": "display_data"
        },
        {
          "data": {
            "application/javascript": [
              "window[\"2ce2a61c-b7ec-11ec-8400-0242ac1c0002\"] = google.colab.output.getActiveOutputArea();\n",
              "//# sourceURL=js_181d6585f5"
            ],
            "text/plain": [
              "<IPython.core.display.Javascript object>"
            ]
          },
          "metadata": {},
          "output_type": "display_data"
        },
        {
          "data": {
            "application/javascript": [
              "window[\"2ce30c74-b7ec-11ec-8400-0242ac1c0002\"] = document.querySelector(\"#id10-3-3\");\n",
              "//# sourceURL=js_b77fea3854"
            ],
            "text/plain": [
              "<IPython.core.display.Javascript object>"
            ]
          },
          "metadata": {},
          "output_type": "display_data"
        },
        {
          "data": {
            "application/javascript": [
              "window[\"2ce42032-b7ec-11ec-8400-0242ac1c0002\"] = google.colab.output.setActiveOutputArea(window[\"2ce30c74-b7ec-11ec-8400-0242ac1c0002\"]);\n",
              "//# sourceURL=js_c9f301d4bc"
            ],
            "text/plain": [
              "<IPython.core.display.Javascript object>"
            ]
          },
          "metadata": {},
          "output_type": "display_data"
        },
        {
          "data": {
            "image/png": "[encoded data removed]",
            "text/plain": [
              "<PIL.Image.Image image mode=L size=224x224 at 0x7F58EB186C10>"
            ]
          },
          "metadata": {},
          "output_type": "display_data"
        },
        {
          "name": "stdout",
          "output_type": "stream",
          "text": [
            "Target:  sneaker\n",
            "Guess:  sandal\n"
          ]
        },
        {
          "data": {
            "application/javascript": [
              "window[\"2ce751f8-b7ec-11ec-8400-0242ac1c0002\"] = google.colab.output.setActiveOutputArea(window[\"2ce2a61c-b7ec-11ec-8400-0242ac1c0002\"]);\n",
              "//# sourceURL=js_3893ab648b"
            ],
            "text/plain": [
              "<IPython.core.display.Javascript object>"
            ]
          },
          "metadata": {},
          "output_type": "display_data"
        }
      ],
      "source": [
        "eval_network(net, test_loader)"
      ]
    },
    {
      "cell_type": "code",
      "execution_count": null,
      "metadata": {
        "id": "83GqpN8yxq-C"
      },
      "outputs": [],
      "source": [
        "import os\n",
        "import time\n",
        "from google.colab import widgets\n",
        "\n",
        "t_to_img = transforms.Compose([transforms.ToPILImage(), transforms.Grayscale()])\n",
        "\n",
        "def eval_n(net, test_loader):\n",
        "  start_time = time.time()\n",
        "  num_correct = 0\n",
        "  total_guesses = 0\n",
        "\n",
        "  # Sets eval and no grad context for evaluation\n",
        "  net.eval()\n",
        "  with torch.no_grad():\n",
        "    for data, targets in iter(test_loader):\n",
        "      # Sends data and targets to device\n",
        "      data = data.to(device)\n",
        "      targets = targets.to(device)\n",
        "\n",
        "      # Acquires the network's best guesses at each class\n",
        "      results = net(data)\n",
        "      best_guesses = torch.argmax(results, 1)\n",
        "\n",
        "      # Updates number of correct and total guesses\n",
        "      num_correct += torch.eq(targets, best_guesses).sum().item()\n",
        "      total_guesses += batch_size\n",
        "    \n",
        "    return num_correct/total_guesses*100"
      ]
    },
    {
      "cell_type": "code",
      "execution_count": null,
      "metadata": {
        "colab": {
          "base_uri": "https://localhost:8080/"
        },
        "id": "-YpR5_hKyHkf",
        "outputId": "1734e739-7a1c-47cf-81a4-d39d3a8fbc2a"
      },
      "outputs": [
        {
          "name": "stdout",
          "output_type": "stream",
          "text": [
            "12.11\n"
          ]
        }
      ],
      "source": [
        "print(eval_n(net, test_loader))"
      ]
    },
    {
      "cell_type": "code",
      "execution_count": null,
      "metadata": {
        "colab": {
          "background_save": true
        },
        "id": "K8AZxuxUDKh9",
        "outputId": "f1b9787a-08d7-4406-fc28-79b81330fde1"
      },
      "outputs": [
        {
          "name": "stdout",
          "output_type": "stream",
          "text": [
            "Spent  698.2957518100739  seconds training for  1  epoch(s) on a single core.\n"
          ]
        }
      ],
      "source": [
        "num_epochs = 1\n",
        "loss_fn = torch.nn.CrossEntropyLoss()\n",
        "optimizer = torch.optim.Adam(net.parameters())\n",
        "\n",
        "# Ensures network is in train mode\n",
        "net.train()\n",
        "train_acc = [] ; test_acc = []\n",
        "start_time = time.time()\n",
        "for epoch in range(num_epochs):\n",
        "  for data, targets in iter(train_loader):\n",
        "    # Sends data and targets to device\n",
        "    data = data.to(device)\n",
        "    targets = targets.to(device)\n",
        "\n",
        "    # Acquires the network's best guesses at each class\n",
        "    results = net(data)\n",
        "\n",
        "    # Computes loss\n",
        "    loss = loss_fn(results, targets)\n",
        " #   train_acc.append(eval_n(net, train_loader))\n",
        " #   test_acc.append(eval_n(net, test_loader))\n",
        "\n",
        "\n",
        "    # Updates model\n",
        "    optimizer.zero_grad()\n",
        "    loss.backward()\n",
        "    xm.optimizer_step(optimizer, barrier=True)  # Note: Cloud TPU-specific code!\n",
        "\n",
        "elapsed_time = time.time() - start_time\n",
        "print (\"Spent \", elapsed_time, \" seconds training for \", num_epochs, \" epoch(s) on a single core.\")"
      ]
    },
    {
      "cell_type": "code",
      "execution_count": null,
      "metadata": {
        "id": "mefVRFwfDKbH",
        "colab": {
          "base_uri": "https://localhost:8080/"
        },
        "outputId": "586a3eaf-93c8-464d-e017-3dc6329fcd1a"
      },
      "outputs": [
        {
          "output_type": "stream",
          "name": "stdout",
          "text": [
            "87.63\n"
          ]
        }
      ],
      "source": [
        "print(eval_n(net, test_loader))"
      ]
    },
    {
      "cell_type": "code",
      "source": [
        "num_epochs = 5\n",
        "loss_fn = torch.nn.CrossEntropyLoss()\n",
        "optimizer = torch.optim.Adam(net.parameters())\n",
        "\n",
        "# Ensures network is in train mode\n",
        "net.train()\n",
        "#train_acc = [] ; test_acc = []\n",
        "start_time = time.time()\n",
        "for epoch in range(num_epochs):\n",
        "  for data, targets in iter(train_loader):\n",
        "    # Sends data and targets to device\n",
        "    data = data.to(device)\n",
        "    targets = targets.to(device)\n",
        "\n",
        "    # Acquires the network's best guesses at each class\n",
        "    results = net(data)\n",
        "\n",
        "    # Computes loss\n",
        "    loss = loss_fn(results, targets)\n",
        " #   train_acc.append(eval_n(net, train_loader))\n",
        "#  test_acc.append(eval_n(net, test_loader))\n",
        "\n",
        "\n",
        "    # Updates model\n",
        "    optimizer.zero_grad()\n",
        "    loss.backward()\n",
        "    xm.optimizer_step(optimizer, barrier=True)  # Note: Cloud TPU-specific code!\n",
        "\n",
        "elapsed_time = time.time() - start_time\n",
        "print (\"Spent \", elapsed_time, \" seconds training for \", num_epochs, \" epoch(s) on a single core.\")"
      ],
      "metadata": {
        "colab": {
          "base_uri": "https://localhost:8080/"
        },
        "id": "M7DIudpq3GKi",
        "outputId": "55cd1aa0-1560-4762-c87c-776894933bbf"
      },
      "execution_count": null,
      "outputs": [
        {
          "output_type": "stream",
          "name": "stdout",
          "text": [
            "Spent  3349.7301771640778  seconds training for  5  epoch(s) on a single core.\n"
          ]
        }
      ]
    },
    {
      "cell_type": "code",
      "source": [
        "print(eval_n(net, test_loader))"
      ],
      "metadata": {
        "colab": {
          "base_uri": "https://localhost:8080/"
        },
        "id": "HYGfaqM8bs3N",
        "outputId": "a83e214c-d3bc-4cec-a7fc-b07ae95ab1c7"
      },
      "execution_count": null,
      "outputs": [
        {
          "output_type": "stream",
          "name": "stdout",
          "text": [
            "91.27\n"
          ]
        }
      ]
    },
    {
      "cell_type": "code",
      "source": [
        "import numpy as np\n",
        "new =  testset[3030][0]\n",
        "new = np.expand_dims(new, axis = 0)\n",
        "new = torch.Tensor(new)\n",
        "new = new.to(device)\n",
        "new.shape"
      ],
      "metadata": {
        "colab": {
          "base_uri": "https://localhost:8080/"
        },
        "id": "6lGAXbSEdkKt",
        "outputId": "00fb18b7-97b1-499f-a9a8-ffeaee5ed1f4"
      },
      "execution_count": null,
      "outputs": [
        {
          "output_type": "execute_result",
          "data": {
            "text/plain": [
              "torch.Size([1, 3, 224, 224])"
            ]
          },
          "metadata": {},
          "execution_count": 86
        }
      ]
    },
    {
      "cell_type": "code",
      "source": [
        "\tpyplot.imshow(trainset[3030][0].permute(1,2,0))"
      ],
      "metadata": {
        "colab": {
          "base_uri": "https://localhost:8080/",
          "height": 306
        },
        "id": "0X9YwqmzdPAt",
        "outputId": "234a4fbc-ce5c-414c-89a0-ec196440ae6b"
      },
      "execution_count": null,
      "outputs": [
        {
          "output_type": "stream",
          "name": "stderr",
          "text": [
            "WARNING:matplotlib.image:Clipping input data to the valid range for imshow with RGB data ([0..1] for floats or [0..255] for integers).\n"
          ]
        },
        {
          "output_type": "execute_result",
          "data": {
            "text/plain": [
              "<matplotlib.image.AxesImage at 0x7f58d7e73150>"
            ]
          },
          "metadata": {},
          "execution_count": 88
        },
        {
          "output_type": "display_data",
          "data": {
            "text/plain": [
              "<Figure size 432x288 with 1 Axes>"
            ],
            "image/png": "[encoded data removed]"
          },
          "metadata": {
            "needs_background": "light"
          }
        }
      ]
    },
    {
      "cell_type": "code",
      "source": [
        "results = net(new)\n",
        "best_guesses = torch.argmax(results, 1)\n",
        "class_map[int(best_guesses)]"
      ],
      "metadata": {
        "colab": {
          "base_uri": "https://localhost:8080/",
          "height": 36
        },
        "id": "65GTp1LYeVxd",
        "outputId": "151e1f8b-f70c-4e47-86e1-b0f3ed3a4945"
      },
      "execution_count": null,
      "outputs": [
        {
          "output_type": "execute_result",
          "data": {
            "text/plain": [
              "'sneaker'"
            ],
            "application/vnd.google.colaboratory.intrinsic+json": {
              "type": "string"
            }
          },
          "metadata": {},
          "execution_count": 89
        }
      ]
    },
    {
      "cell_type": "code",
      "source": [
        "class_map[int(testset[3030][1])]"
      ],
      "metadata": {
        "colab": {
          "base_uri": "https://localhost:8080/",
          "height": 36
        },
        "id": "2voA1sprfc1c",
        "outputId": "643bc285-8ba4-4760-8d50-3c21f040f227"
      },
      "execution_count": null,
      "outputs": [
        {
          "output_type": "execute_result",
          "data": {
            "text/plain": [
              "'sneaker'"
            ],
            "application/vnd.google.colaboratory.intrinsic+json": {
              "type": "string"
            }
          },
          "metadata": {},
          "execution_count": 91
        }
      ]
    }
  ],
  "metadata": {
    "colab": {
      "name": "Resnet50_FashionMNIST_1Core.ipynb",
      "provenance": [],
      "collapsed_sections": [],
      "authorship_tag": "ABX9TyNUlE0v70SLj57Gqq1Xcbie",
      "include_colab_link": true
    },
    "kernelspec": {
      "display_name": "Python 3",
      "name": "python3"
    },
    "language_info": {
      "name": "python"
    }
  },
  "nbformat": 4,
  "nbformat_minor": 0
}