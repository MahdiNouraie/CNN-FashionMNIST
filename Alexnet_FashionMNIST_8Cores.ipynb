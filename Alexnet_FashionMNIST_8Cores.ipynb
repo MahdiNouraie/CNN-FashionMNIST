{
  "nbformat": 4,
  "nbformat_minor": 0,
  "metadata": {
    "colab": {
      "name": "Alexnet_FashionMNIST_8Cores.ipynb",
      "provenance": [],
      "collapsed_sections": [],
      "authorship_tag": "ABX9TyNJ/pZ0UGGflxWC6LQhtEX6",
      "include_colab_link": true
    },
    "kernelspec": {
      "name": "python3",
      "display_name": "Python 3"
    },
    "language_info": {
      "name": "python"
    }
  },
  "cells": [
    {
      "cell_type": "markdown",
      "metadata": {
        "id": "view-in-github",
        "colab_type": "text"
      },
      "source": [
        "<a href=\"https://colab.research.google.com/github/MahdiNouraie/CNN-FashionMNIST/blob/main/Alexnet_FashionMNIST_8Cores.ipynb\" target=\"_parent\"><img src=\"https://colab.research.google.com/assets/colab-badge.svg\" alt=\"Open In Colab\"/></a>"
      ]
    },
    {
      "cell_type": "code",
      "execution_count": null,
      "metadata": {
        "id": "xFoxkZxK0AEX"
      },
      "outputs": [],
      "source": [
        "import os\n",
        "!pip install cloud-tpu-client==0.10 torch==1.11.0 https://storage.googleapis.com/tpu-pytorch/wheels/colab/torch_xla-1.11-cp37-cp37m-linux_x86_64.whl"
      ]
    },
    {
      "cell_type": "code",
      "source": [
        "import torch\n",
        "import torch_xla\n",
        "import torch_xla.core.xla_model as xm\n",
        "import torch_xla.distributed.xla_multiprocessing as xmp\n",
        "import torchvision\n",
        "from torchvision import datasets\n",
        "import torchvision.transforms as transforms\n",
        "import torch_xla.distributed.parallel_loader as pl\n",
        "import time"
      ],
      "metadata": {
        "id": "ditl5l0M1MGO"
      },
      "execution_count": null,
      "outputs": []
    },
    {
      "cell_type": "code",
      "source": [
        "assert os.environ['COLAB_TPU_ADDR'], 'Make sure to select TPU from Edit > Notebook settings > Hardware accelerator'"
      ],
      "metadata": {
        "id": "8yUOIVPh4D0X"
      },
      "execution_count": null,
      "outputs": []
    },
    {
      "cell_type": "code",
      "source": [
        "def map_fn(index, flags):\n",
        "  # Sets a common random seed - both for initialization and ensuring graph is the same\n",
        "  torch.manual_seed(flags['seed'])\n",
        "  # Acquires the (unique) Cloud TPU core corresponding to this process's index\n",
        "  device = xm.xla_device()  \n",
        "  ## Dataloader construction\n",
        "  # Creates the transform for the raw Torchvision data\n",
        "  # See https://pytorch.org/docs/stable/torchvision/models.html for normalization\n",
        "  # Pre-trained TorchVision models expect RGB (3 x H x W) images\n",
        "  # H and W should be >= 224\n",
        "  # Loaded into [0, 1] and normalized as follows:\n",
        "  normalize = transforms.Normalize((0.5,) , (0.5,) , )\n",
        "  to_rgb = transforms.Lambda(lambda image: image.convert('RGB'))\n",
        "  resize = transforms.Resize((224, 224))\n",
        "  my_transform = transforms.Compose([resize, to_rgb, transforms.ToTensor(), normalize])\n",
        "\n",
        "  # Downloads train and test datasets\n",
        "  # Note: master goes first and downloads the dataset only once (xm.rendezvous)\n",
        "  #   all the other workers wait for the master to be done downloading.\n",
        "\n",
        "  if not xm.is_master_ordinal():\n",
        "    xm.rendezvous('download_only_once')\n",
        "\n",
        "  train_dataset = datasets.FashionMNIST(\n",
        "    '~/ .pytorch/F_MNIST_data' ,\n",
        "    train=True,\n",
        "    download=True,\n",
        "    transform=my_transform)\n",
        "\n",
        "  test_dataset = datasets.FashionMNIST(\n",
        "    '~/ .pytorch/F_MNIST_data' ,\n",
        "    train=False,\n",
        "    download=True,\n",
        "    transform=my_transform)\n",
        "  \n",
        "  if xm.is_master_ordinal():\n",
        "    xm.rendezvous('download_only_once')\n",
        "  \n",
        "  # Creates the (distributed) train sampler, which let this process only access\n",
        "  # its portion of the training dataset.\n",
        "  train_sampler = torch.utils.data.distributed.DistributedSampler(\n",
        "    train_dataset,\n",
        "    num_replicas=xm.xrt_world_size(),\n",
        "    rank=xm.get_ordinal(),\n",
        "    shuffle=True)\n",
        "  \n",
        "  test_sampler = torch.utils.data.distributed.DistributedSampler(\n",
        "    test_dataset,\n",
        "    num_replicas=xm.xrt_world_size(),\n",
        "    rank=xm.get_ordinal(),\n",
        "    shuffle=False)\n",
        "  \n",
        "  # Creates dataloaders, which load data in batches\n",
        "  # Note: test loader is not shuffled or sampled\n",
        "  train_loader = torch.utils.data.DataLoader(\n",
        "      train_dataset,\n",
        "      batch_size=flags['batch_size'],\n",
        "      sampler=train_sampler,\n",
        "      num_workers=flags['num_workers'],\n",
        "      drop_last=True)\n",
        "\n",
        "  test_loader = torch.utils.data.DataLoader(\n",
        "      test_dataset,\n",
        "      batch_size=flags['batch_size'],\n",
        "      sampler=test_sampler,\n",
        "      shuffle=False,\n",
        "      num_workers=flags['num_workers'],\n",
        "      drop_last=True)\n",
        "  \n",
        "\n",
        "  ## Network, optimizer, and loss function creation\n",
        "\n",
        "  # Creates AlexNet for 10 classes\n",
        "  # Note: each process has its own identical copy of the model\n",
        "  #  Even though each model is created independently, they're also\n",
        "  #  created in the same way.\n",
        "  net = torchvision.models.alexnet(num_classes=10).to(device).train()\n",
        "\n",
        "  loss_fn = torch.nn.CrossEntropyLoss()\n",
        "  optimizer = torch.optim.Adam(net.parameters())\n",
        "\n",
        "\n",
        "  ## Trains\n",
        "  train_start = time.time()\n",
        "  for epoch in range(flags['num_epochs']):\n",
        "    para_train_loader = pl.ParallelLoader(train_loader, [device]).per_device_loader(device)\n",
        "    for batch_num, batch in enumerate(para_train_loader):\n",
        "      data, targets = batch \n",
        "\n",
        "      # Acquires the network's best guesses at each class\n",
        "      output = net(data)\n",
        "\n",
        "      # Computes loss\n",
        "      loss = loss_fn(output, targets)\n",
        "\n",
        "      # Updates model\n",
        "      optimizer.zero_grad()\n",
        "      loss.backward()\n",
        "\n",
        "      # Note: optimizer_step uses the implicit Cloud TPU context to\n",
        "      #  coordinate and synchronize gradient updates across processes.\n",
        "      #  This means that each process's network has the same weights after\n",
        "      #  this is called.\n",
        "      # Warning: this coordination requires the actions performed in each \n",
        "      #  process are the same. In more technical terms, the graph that\n",
        "      #  PyTorch/XLA generates must be the same across processes. \n",
        "      xm.optimizer_step(optimizer)  # Note: barrier=True not needed when using ParallelLoader \n",
        "\n",
        "  elapsed_train_time = time.time() - train_start\n",
        "  print(\"Process\", index, \"finished training. Train time was:\", elapsed_train_time) \n",
        "\n",
        "\n",
        "  ## Evaluation\n",
        "  # Sets net to eval and no grad context \n",
        "  net.eval()\n",
        "  eval_start = time.time()\n",
        "  with torch.no_grad():\n",
        "    num_correct = 0\n",
        "    total_guesses = 0\n",
        "\n",
        "    para_train_loader = pl.ParallelLoader(test_loader, [device]).per_device_loader(device)\n",
        "    for batch_num, batch in enumerate(para_train_loader):\n",
        "      data, targets = batch\n",
        "\n",
        "      # Acquires the network's best guesses at each class\n",
        "      output = net(data)\n",
        "      best_guesses = torch.argmax(output, 1)\n",
        "\n",
        "      # Updates running statistics\n",
        "      num_correct += torch.eq(targets, best_guesses).sum().item()\n",
        "      total_guesses += flags['batch_size']\n",
        "  \n",
        "  elapsed_eval_time = time.time() - eval_start\n",
        "  print(\"Process\", index, \"finished evaluation. Evaluation time was:\", elapsed_eval_time)\n",
        "  print(\"Process\", index, \"guessed\", num_correct, \"of\", total_guesses, \"correctly for\", num_correct/total_guesses * 100, \"% accuracy.\")"
      ],
      "metadata": {
        "id": "2J4zsFlo1MDU"
      },
      "execution_count": null,
      "outputs": []
    },
    {
      "cell_type": "code",
      "source": [
        "# Configures training (and evaluation) parameters\n",
        "flags = {}\n",
        "flags['batch_size'] = 32\n",
        "flags['num_workers'] = 8\n",
        "flags['num_epochs'] = 5\n",
        "flags['seed'] = 1234\n",
        "\n",
        "xmp.spawn(map_fn, args=(flags,), nprocs=8, start_method='fork')"
      ],
      "metadata": {
        "colab": {
          "base_uri": "https://localhost:8080/"
        },
        "id": "TfcHPg572nKo",
        "outputId": "20b0ace6-9a55-4dea-8c9d-c5da532632e9"
      },
      "execution_count": null,
      "outputs": [
        {
          "output_type": "stream",
          "name": "stderr",
          "text": [
            "/usr/local/lib/python3.7/dist-packages/torch/utils/data/dataloader.py:490: UserWarning: This DataLoader will create 8 worker processes in total. Our suggested max number of worker in current system is 2, which is smaller than what this DataLoader is going to create. Please be aware that excessive worker creation might get DataLoader running slow or even freeze, lower the worker number to avoid potential slowness/freeze if necessary.\n",
            "  cpuset_checked))\n",
            "/usr/local/lib/python3.7/dist-packages/torch/utils/data/dataloader.py:490: UserWarning: This DataLoader will create 8 worker processes in total. Our suggested max number of worker in current system is 2, which is smaller than what this DataLoader is going to create. Please be aware that excessive worker creation might get DataLoader running slow or even freeze, lower the worker number to avoid potential slowness/freeze if necessary.\n",
            "  cpuset_checked))\n",
            "/usr/local/lib/python3.7/dist-packages/torch/utils/data/dataloader.py:490: UserWarning: This DataLoader will create 8 worker processes in total. Our suggested max number of worker in current system is 2, which is smaller than what this DataLoader is going to create. Please be aware that excessive worker creation might get DataLoader running slow or even freeze, lower the worker number to avoid potential slowness/freeze if necessary.\n",
            "  cpuset_checked))\n",
            "/usr/local/lib/python3.7/dist-packages/torch/utils/data/dataloader.py:490: UserWarning: This DataLoader will create 8 worker processes in total. Our suggested max number of worker in current system is 2, which is smaller than what this DataLoader is going to create. Please be aware that excessive worker creation might get DataLoader running slow or even freeze, lower the worker number to avoid potential slowness/freeze if necessary.\n",
            "  cpuset_checked))\n",
            "/usr/local/lib/python3.7/dist-packages/torch/utils/data/dataloader.py:490: UserWarning: This DataLoader will create 8 worker processes in total. Our suggested max number of worker in current system is 2, which is smaller than what this DataLoader is going to create. Please be aware that excessive worker creation might get DataLoader running slow or even freeze, lower the worker number to avoid potential slowness/freeze if necessary.\n",
            "  cpuset_checked))\n",
            "/usr/local/lib/python3.7/dist-packages/torch/utils/data/dataloader.py:490: UserWarning: This DataLoader will create 8 worker processes in total. Our suggested max number of worker in current system is 2, which is smaller than what this DataLoader is going to create. Please be aware that excessive worker creation might get DataLoader running slow or even freeze, lower the worker number to avoid potential slowness/freeze if necessary.\n",
            "  cpuset_checked))\n",
            "/usr/local/lib/python3.7/dist-packages/torch/utils/data/dataloader.py:490: UserWarning: This DataLoader will create 8 worker processes in total. Our suggested max number of worker in current system is 2, which is smaller than what this DataLoader is going to create. Please be aware that excessive worker creation might get DataLoader running slow or even freeze, lower the worker number to avoid potential slowness/freeze if necessary.\n",
            "  cpuset_checked))\n",
            "/usr/local/lib/python3.7/dist-packages/torch/utils/data/dataloader.py:490: UserWarning: This DataLoader will create 8 worker processes in total. Our suggested max number of worker in current system is 2, which is smaller than what this DataLoader is going to create. Please be aware that excessive worker creation might get DataLoader running slow or even freeze, lower the worker number to avoid potential slowness/freeze if necessary.\n",
            "  cpuset_checked))\n"
          ]
        },
        {
          "output_type": "stream",
          "name": "stdout",
          "text": [
            "Process 6 finished training. Train time was: 1708.569236755371\n",
            "Process 4 finished training. Train time was: 1710.6655972003937\n",
            "Process 7 finished training. Train time was: 1711.5464255809784\n",
            "Process 5 finished training. Train time was: 1718.607072353363\n",
            "Process 2 finished training. Train time was: 1713.4141731262207\n",
            "Process 1 finished training. Train time was: 1708.0153498649597\n",
            "Process 3 finished training. Train time was: 1708.4740352630615\n",
            "Process 0 finished training. Train time was: 1721.9642391204834\n",
            "Process 6 finished evaluation. Evaluation time was: 60.750757694244385\n",
            "Process 6 guessed 1137 of 1248 correctly for 91.10576923076923 % accuracy.\n",
            "Process 5 finished evaluation. Evaluation time was: 62.32980298995972\n",
            "Process 5 guessed 1115 of 1248 correctly for 89.34294871794873 % accuracy.\n",
            "Process 1 finished evaluation. Evaluation time was: 62.50452494621277\n",
            "Process 1 guessed 1109 of 1248 correctly for 88.86217948717949 % accuracy.\n",
            "Process 2 finished evaluation. Evaluation time was: 64.24837279319763\n",
            "Process 2 guessed 1132 of 1248 correctly for 90.7051282051282 % accuracy.\n",
            "Process 7 finished evaluation. Evaluation time was: 66.1727602481842\n",
            "Process 7 guessed 1126 of 1248 correctly for 90.22435897435898 % accuracy.\n",
            "Process 3 finished evaluation. Evaluation time was: 66.32840251922607\n",
            "Process 3 guessed 1134 of 1248 correctly for 90.86538461538461 % accuracy.\n",
            "Process 0 finished evaluation. Evaluation time was: 68.83201289176941\n",
            "Process 0 guessed 1139 of 1248 correctly for 91.26602564102564 % accuracy.\n",
            "Process 4 finished evaluation. Evaluation time was: 68.98212957382202\n",
            "Process 4 guessed 1120 of 1248 correctly for 89.74358974358975 % accuracy.\n"
          ]
        }
      ]
    }
  ]
}